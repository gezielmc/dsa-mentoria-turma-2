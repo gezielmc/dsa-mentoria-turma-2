{
  "nbformat": 4,
  "nbformat_minor": 0,
  "metadata": {
    "colab": {
      "name": "Piloto.Suggeri.ipynb",
      "provenance": [],
      "collapsed_sections": []
    },
    "kernelspec": {
      "name": "python3",
      "display_name": "Python 3"
    },
    "language_info": {
      "name": "python"
    }
  },
  "cells": [
    {
      "cell_type": "code",
      "metadata": {
        "colab": {
          "base_uri": "https://localhost:8080/"
        },
        "id": "in2mjobMeFb2",
        "outputId": "1fcd3205-c11f-4301-c93f-9da50b594e2d"
      },
      "source": [
        "!pip install surprise"
      ],
      "execution_count": null,
      "outputs": [
        {
          "output_type": "stream",
          "text": [
            "Collecting surprise\n",
            "  Downloading surprise-0.1-py2.py3-none-any.whl (1.8 kB)\n",
            "Collecting scikit-surprise\n",
            "  Downloading scikit-surprise-1.1.1.tar.gz (11.8 MB)\n",
            "\u001b[K     |████████████████████████████████| 11.8 MB 4.2 MB/s \n",
            "\u001b[?25hRequirement already satisfied: joblib>=0.11 in /usr/local/lib/python3.7/dist-packages (from scikit-surprise->surprise) (1.0.1)\n",
            "Requirement already satisfied: numpy>=1.11.2 in /usr/local/lib/python3.7/dist-packages (from scikit-surprise->surprise) (1.19.5)\n",
            "Requirement already satisfied: scipy>=1.0.0 in /usr/local/lib/python3.7/dist-packages (from scikit-surprise->surprise) (1.4.1)\n",
            "Requirement already satisfied: six>=1.10.0 in /usr/local/lib/python3.7/dist-packages (from scikit-surprise->surprise) (1.15.0)\n",
            "Building wheels for collected packages: scikit-surprise\n",
            "  Building wheel for scikit-surprise (setup.py) ... \u001b[?25l\u001b[?25hdone\n",
            "  Created wheel for scikit-surprise: filename=scikit_surprise-1.1.1-cp37-cp37m-linux_x86_64.whl size=1617785 sha256=b88b89f43e01bfffbdcf32acc0f273e671114846a597e2e8645714f559de2ca5\n",
            "  Stored in directory: /root/.cache/pip/wheels/76/44/74/b498c42be47b2406bd27994e16c5188e337c657025ab400c1c\n",
            "Successfully built scikit-surprise\n",
            "Installing collected packages: scikit-surprise, surprise\n",
            "Successfully installed scikit-surprise-1.1.1 surprise-0.1\n"
          ],
          "name": "stdout"
        }
      ]
    },
    {
      "cell_type": "code",
      "metadata": {
        "id": "jwt9Tz4QYbUq"
      },
      "source": [
        "import io\n",
        "import pandas as pd\n",
        "from surprise.prediction_algorithms import SVD\n",
        "from surprise.model_selection import GridSearchCV\n",
        "from surprise import Dataset\n",
        "from surprise.dataset import DatasetAutoFolds\n",
        "from surprise import Trainset, Reader\n",
        "from surprise.model_selection import cross_validate\n",
        "from collections import defaultdict\n",
        "import pickle\n",
        "from surprise.dump import dump\n",
        "from google.colab import files\n",
        "import uuid\n",
        "from sklearn.externals import joblib\n",
        "\n",
        "def train_model(csv):\n",
        "  # uploaded=files.upload()\n",
        "  print('Carregando a base de dados')\n",
        "  csv = pd.read_csv('df.csv')\n",
        "  csv = Dataset.load_from_df(csv[['UserId', 'ProductId', 'Rating']], Reader(rating_scale=(1,5)))\n",
        "  print('Ok')\n",
        "  algo = SVD(biased=False)\n",
        "  cross_validate(algo, csv, cv=5)\n",
        "  #gs = GridSearchCV(SVD, param_grid={'n_epochs': (3,5,10,50,100), 'lr_all': [0.002, 0.005], 'reg_all': [0.4, 0.6]}, cv=5, measures='rmse', refit=True)\n",
        "  print('Criando o dataset de treino')\n",
        "  trainset = csv.build_full_trainset()\n",
        "  print('Ok')\n",
        "  # remover depois\n",
        "  # testset = trainset.build_testset()\n",
        "  print('Iniciando o treinamento dos dados')\n",
        "  modelo = algo.fit(trainset) #treino do algoritmo no dataset inteiro\n",
        "  #params_treino = gs.best_params['rmse']\n",
        "  #print('Melhores parâmetros: \\t', gs.best_params['rmse'])\n",
        "  print('Finalizado')\n",
        "  return modelo\n",
        "  \n",
        "def save_model(model):\n",
        "  file_name = str(uuid.uuid4()) + '.model'\n",
        "  #file_name = 'Modelo final.pickle'\n",
        "  #pickle.dump(model, open(file_name, 'wb'))\n",
        "  pickle.dump(model, open(file_name, 'wb'))\n",
        "  #joblib.dump(model, file_name)\n",
        "  print(file_name)\n",
        "  return file_name\n",
        " \n",
        "def load_model(file_name):\n",
        "  loaded_model = pickle.load(open(file_name, 'rb'))\n",
        "  #loaded_model = joblib.load(file_name)\n",
        "  return loaded_model\n",
        " \n",
        "def predicoes(csv, model, uid, iid):\n",
        "  model_loaded = load_model(file_name='Modelo final.pickle')\n",
        "  csv = pd.read_csv('df.csv')\n",
        "  csv = Dataset.load_from_df(csv[['UserId', 'ProductId', 'Rating']], Reader(rating_scale=(1,5)))\n",
        "  trainset = csv.build_full_trainset()\n",
        "  testset = trainset.build_testset()\n",
        "  predicoes = model_loaded.test(testset)\n",
        "  pred = model_loaded.predict(uid, iid, verbose=True)\n",
        "  uid = Trainset.to_raw_uid(iuid)\n",
        "  iid = Trainset.to_raw_iid(iiid)\n",
        "  #predicoes = pd.DataFrame(predicoes)\n",
        "  return predicoes\n",
        "\n",
        "def get_top_n(predicoes, n=5):\n",
        "  top_n = defaultdict(list)\n",
        "  for uid, iid, true_r, est, _ in predicoes:\n",
        "    top_n[uid].append((iid,est)) #predições para cada usuário\n",
        "  for uid, user_ratings in top_n.items():\n",
        "    user_ratings.sort(key=lambda x: x[1], reverse=True) #classificação das previsões e seleção das mais altas\n",
        "    top_n[uid] = user_ratings[:n]\n",
        "  for uid, user_ratings in top_n.items():\n",
        "    print(uid, [iid for (iid, _) in user_ratings])\n",
        "  return top_n"
      ],
      "execution_count": null,
      "outputs": []
    },
    {
      "cell_type": "code",
      "metadata": {
        "colab": {
          "base_uri": "https://localhost:8080/"
        },
        "id": "a_B9yJYop1DO",
        "outputId": "87be6424-508a-4772-c42b-2891f38fedd6"
      },
      "source": [
        "!pwd"
      ],
      "execution_count": null,
      "outputs": [
        {
          "output_type": "stream",
          "text": [
            "/content\n"
          ],
          "name": "stdout"
        }
      ]
    },
    {
      "cell_type": "code",
      "metadata": {
        "id": "9TUkuNN1e1j0",
        "colab": {
          "resources": {
            "http://localhost:8080/nbextensions/google.colab/files.js": {
              "data": "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",
              "ok": true,
              "headers": [
                [
                  "content-type",
                  "application/javascript"
                ]
              ],
              "status": 200,
              "status_text": ""
            }
          },
          "base_uri": "https://localhost:8080/",
          "height": 89
        },
        "outputId": "a0c6f9cf-4f10-41be-b249-d6c066e35dd0"
      },
      "source": [
        "print('Carregando a base de dados')\n",
        "uploaded=files.upload()"
      ],
      "execution_count": null,
      "outputs": [
        {
          "output_type": "stream",
          "text": [
            "Carregando a base de dados\n"
          ],
          "name": "stdout"
        },
        {
          "output_type": "display_data",
          "data": {
            "text/html": [
              "\n",
              "     <input type=\"file\" id=\"files-189536c6-f62f-4453-a3d9-47fa3106e0c5\" name=\"files[]\" multiple disabled\n",
              "        style=\"border:none\" />\n",
              "     <output id=\"result-189536c6-f62f-4453-a3d9-47fa3106e0c5\">\n",
              "      Upload widget is only available when the cell has been executed in the\n",
              "      current browser session. Please rerun this cell to enable.\n",
              "      </output>\n",
              "      <script src=\"/nbextensions/google.colab/files.js\"></script> "
            ],
            "text/plain": [
              "<IPython.core.display.HTML object>"
            ]
          },
          "metadata": {
            "tags": []
          }
        },
        {
          "output_type": "stream",
          "text": [
            "Saving df.csv to df.csv\n"
          ],
          "name": "stdout"
        }
      ]
    },
    {
      "cell_type": "code",
      "metadata": {
        "colab": {
          "base_uri": "https://localhost:8080/"
        },
        "id": "_yqdWI-Bq7m1",
        "outputId": "254be89a-512d-4528-e353-a54a14be7a7e"
      },
      "source": [
        "# treino\n",
        "%%time\n",
        "csv = 'df.csv'\n",
        "print('training model...')\n",
        "model = train_model(csv)\n",
        "print('saving model...')\n",
        "model_filename = save_model(model)\n",
        "print(f'model saved to {model_filename}')\n"
      ],
      "execution_count": null,
      "outputs": [
        {
          "output_type": "stream",
          "text": [
            "training model...\n",
            "Carregando a base de dados\n",
            "Ok\n",
            "Criando o dataset de treino\n",
            "Ok\n",
            "Iniciando o treinamento dos dados\n",
            "Finalizado\n",
            "saving model...\n",
            "0e29b27a-4c99-4850-a958-fc1a8ee5c6c4.model\n",
            "model saved to 0e29b27a-4c99-4850-a958-fc1a8ee5c6c4.model\n",
            "CPU times: user 192 ms, sys: 2.45 ms, total: 194 ms\n",
            "Wall time: 196 ms\n"
          ],
          "name": "stdout"
        }
      ]
    },
    {
      "cell_type": "code",
      "metadata": {
        "colab": {
          "base_uri": "https://localhost:8080/"
        },
        "id": "vK7l21tcE9nB",
        "outputId": "1c4d0beb-b955-41b6-da90-7dc3e953509c"
      },
      "source": [
        "!ls"
      ],
      "execution_count": null,
      "outputs": [
        {
          "output_type": "stream",
          "text": [
            " 0e29b27a-4c99-4850-a958-fc1a8ee5c6c4.model  'Modelo final.pickle'\n",
            " df.csv\t\t\t\t\t      sample_data\n"
          ],
          "name": "stdout"
        }
      ]
    },
    {
      "cell_type": "code",
      "metadata": {
        "id": "Iugx9Mh1rAqh"
      },
      "source": [
        "# predição\n",
        "print('Carregando o modelo...')\n",
        "model = load_model(model_filename)\n",
        "print (\"Modelo carregado\")\n",
        "iuid = str(2)\n",
        "iiid = str(15)\n",
        "#est = str(4.15)\n",
        "print(f'predicting product {iid}..')\n",
        "print('Realizando as predições')\n",
        "predict = predicoes(csv, model, uid, iid)\n",
        "top_n = get_top_n(predict)\n",
        "print(f'prediction result={top_n}')\n",
        "for uid, user_ratings in top_n.items():\n",
        "    print(uid, [iid for (iid, _) in user_ratings])"
      ],
      "execution_count": null,
      "outputs": []
    },
    {
      "cell_type": "code",
      "metadata": {
        "id": "apmDphsohAQ_"
      },
      "source": [
        ""
      ],
      "execution_count": null,
      "outputs": []
    },
    {
      "cell_type": "code",
      "metadata": {
        "id": "8ByNXLR75gON"
      },
      "source": [
        "from surprise.prediction_algorithms import knns\n",
        "from surprise import KNNBaseline\n",
        "\n",
        "def train_model(csv):\n",
        "  # uploaded=files.upload()\n",
        "  print('Carregando a base de dados')\n",
        "  csv = pd.read_csv('df.csv')\n",
        "  csv = Dataset.load_from_df(csv[['UserId', 'ProductId', 'Rating']], Reader(rating_scale=(1,5)))\n",
        "  print('Ok')\n",
        "  algo = SVD(biased=False)\n",
        "  cross_validate(algo, csv, cv=5)\n",
        "  #gs = GridSearchCV(SVD, param_grid={'n_epochs': (3,5,10,50,100), 'lr_all': [0.002, 0.005], 'reg_all': [0.4, 0.6]}, cv=5, measures='rmse', refit=True)\n",
        "  print('Criando o dataset de treino')\n",
        "  trainset = csv.build_full_trainset()\n",
        "  print('Ok')\n",
        "  # remover depois\n",
        "  # testset = trainset.build_testset()\n",
        "  print('Iniciando o treinamento dos dados')\n",
        "  modelo = algo.fit(trainset) #treino do algoritmo no dataset inteiro\n",
        "  #params_treino = gs.best_params['rmse']\n",
        "  #print('Melhores parâmetros: \\t', gs.best_params['rmse'])\n",
        "  print('Finalizado')\n",
        "  return modelo\n",
        "  \n",
        "def save_model(model):\n",
        "  file_name = 'Modelo final.pickle'\n",
        "  pickle.dump(model, open(file_name, 'wb'))\n",
        "  file_name = str(uuid.uuid4()) + '.model'\n",
        "  print(file_name)\n",
        "  return file_name\n",
        " \n",
        "def load_model(file_name):\n",
        "  print('Carregando o modelo')\n",
        "  loaded_model = pickle.load(open(file_name, 'rb'))\n",
        "  print (\"Modelo carregado\")\n",
        "  return loaded_model\n",
        " \n",
        "def predicoes(csv, model, uid, iid):\n",
        "  print('Realizando as predições')\n",
        "  model_loaded = load_model(file_name='Modelo final.pickle')\n",
        "  csv = pd.read_csv('df.csv')\n",
        "  csv = Dataset.load_from_df(csv[['UserId', 'ProductId', 'Rating']], Reader(rating_scale=(1,5)))\n",
        "  trainset = csv.build_full_trainset()\n",
        "  testset = trainset.build_anti_testset()\n",
        "  predicoes = model_loaded.test(testset)\n",
        "  pred = model_loaded.predict(uid, iid, verbose=True)\n",
        "  #predicoes = pd.DataFrame(predicoes)\n",
        "  return predicoes\n",
        "\n",
        "def get_top_n(predicoes, n=5):\n",
        "  top_n = defaultdict(list)\n",
        "  for uid, iid, true_r, est, _ in predicoes:\n",
        "    top_n[uid].append((iid,est)) #predições para cada usuário\n",
        "  for uid, user_ratings in top_n.items():\n",
        "    user_ratings.sort(key=lambda x: x[1], reverse=True) #classificação das previsões e seleção das mais altas\n",
        "    top_n[uid] = user_ratings[:n]\n",
        "  #for uid, user_ratings in top_n.items():\n",
        "    #print(uid, [iid for (iid, _) in user_ratings])\n",
        "  return top_n"
      ],
      "execution_count": null,
      "outputs": []
    },
    {
      "cell_type": "markdown",
      "metadata": {
        "id": "oYhpiPmyYhtT"
      },
      "source": [
        "# Ronivaldo Criou a partir daqui"
      ]
    },
    {
      "cell_type": "code",
      "metadata": {
        "colab": {
          "base_uri": "https://localhost:8080/"
        },
        "id": "jwjRy3vWZWvy",
        "outputId": "0a8faf14-6035-47a5-b2eb-f648fa8fe63d"
      },
      "source": [
        "!pip install surprise"
      ],
      "execution_count": null,
      "outputs": [
        {
          "output_type": "stream",
          "text": [
            "Collecting surprise\n",
            "  Downloading surprise-0.1-py2.py3-none-any.whl (1.8 kB)\n",
            "Collecting scikit-surprise\n",
            "  Downloading scikit-surprise-1.1.1.tar.gz (11.8 MB)\n",
            "\u001b[K     |████████████████████████████████| 11.8 MB 46 kB/s \n",
            "\u001b[?25hRequirement already satisfied: joblib>=0.11 in /usr/local/lib/python3.7/dist-packages (from scikit-surprise->surprise) (1.0.1)\n",
            "Requirement already satisfied: numpy>=1.11.2 in /usr/local/lib/python3.7/dist-packages (from scikit-surprise->surprise) (1.19.5)\n",
            "Requirement already satisfied: scipy>=1.0.0 in /usr/local/lib/python3.7/dist-packages (from scikit-surprise->surprise) (1.4.1)\n",
            "Requirement already satisfied: six>=1.10.0 in /usr/local/lib/python3.7/dist-packages (from scikit-surprise->surprise) (1.15.0)\n",
            "Building wheels for collected packages: scikit-surprise\n",
            "  Building wheel for scikit-surprise (setup.py) ... \u001b[?25l\u001b[?25hdone\n",
            "  Created wheel for scikit-surprise: filename=scikit_surprise-1.1.1-cp37-cp37m-linux_x86_64.whl size=1617793 sha256=1650b17eb2b3e2aa4adefc8fa1da466b90f4dda88c9989f0c203f071a1bdcd70\n",
            "  Stored in directory: /root/.cache/pip/wheels/76/44/74/b498c42be47b2406bd27994e16c5188e337c657025ab400c1c\n",
            "Successfully built scikit-surprise\n",
            "Installing collected packages: scikit-surprise, surprise\n",
            "Successfully installed scikit-surprise-1.1.1 surprise-0.1\n"
          ],
          "name": "stdout"
        }
      ]
    },
    {
      "cell_type": "code",
      "metadata": {
        "id": "KxN0t09YaGED"
      },
      "source": [
        "import uuid\n",
        "import sys\n",
        "import os\n",
        "import pickle\n",
        "import time\n",
        "from collections import defaultdict\n",
        "from surprise.prediction_algorithms import knns\n",
        "from surprise import SVD\n",
        "from surprise import Dataset\n",
        "\n",
        "\n",
        "def get_top_n(predictions, n=10):\n",
        "    \"\"\"Return the top-N recommendation for each user from a set of predictions.\n",
        "\n",
        "    Args:\n",
        "        predictions(list of Prediction objects): The list of predictions, as\n",
        "            returned by the test method of an algorithm.\n",
        "        n(int): The number of recommendation to output for each user. Default\n",
        "            is 10.\n",
        "\n",
        "    Returns:\n",
        "    A dict where keys are user (raw) ids and values are lists of tuples:\n",
        "        [(raw item id, rating estimation), ...] of size n.\n",
        "    \"\"\"\n",
        "\n",
        "    # First map the predictions to each user.\n",
        "    top_n = defaultdict(list)\n",
        "    for uid, iid, true_r, est, _ in predictions:\n",
        "        top_n[uid].append((iid, est))\n",
        "\n",
        "    # Then sort the predictions for each user and retrieve the k highest ones.\n",
        "    for uid, user_ratings in top_n.items():\n",
        "        user_ratings.sort(key=lambda x: x[1], reverse=True)\n",
        "        if n:\n",
        "          top_n[uid] = user_ratings[:n]\n",
        "        else:\n",
        "          top_n[uid] = user_ratings\n",
        "\n",
        "    return top_n\n",
        "\n",
        "def train_model(csv_filename, n=None):\n",
        "  start = time.time()\n",
        "  # TODO: alterar para ler .csv\n",
        "  # print('loading from dataset')\n",
        "  # df = pd.read_csv(csv_filename)\n",
        "  # data = Dataset.load_from_df(df[['UserId', 'ProductId', 'Rating']], Reader(rating_scale=(1,5)))\n",
        "  data = Dataset.load_builtin('ml-100k')\n",
        "  trainset = data.build_full_trainset()\n",
        "  algo = SVD(random_state=1)\n",
        "  algo.fit(trainset)\n",
        "\n",
        "  # Than predict ratings for all pairs (u, i) that are NOT in the training set.\n",
        "  testset = trainset.build_anti_testset()\n",
        "  predictions = algo.test(testset)\n",
        "\n",
        "  model = get_top_n(predictions, n=n)\n",
        "  elapsed_seconds = time.time() - start\n",
        "  print(f'model trained in {elapsed_seconds:.1f} seconds')\n",
        "  return model\n",
        "\n",
        "def save_model(model):\n",
        "  tamanho_modelo = sys.getsizeof(model)\n",
        "  print(f'tamanho do modelo: {tamanho_modelo} bytes')\n",
        "  file_name = str(uuid.uuid4()) + '.model'\n",
        "  pickle.dump(model, open(file_name, 'wb'))\n",
        "  tamanho_arquivo = os.stat(file_name).st_size\n",
        "  print(f'tamanho do arquivo: {tamanho_arquivo} bytes')\n",
        "  return file_name\n",
        "\n",
        "def load_model(file_name):\n",
        "  print('Carregando o modelo')\n",
        "  loaded_model = pickle.load(open(file_name, 'rb'))\n",
        "  print (\"Modelo carregado\")\n",
        "  return loaded_model\n",
        "\n",
        "def predict_user(model, user_id, n=5):\n",
        "  result = []\n",
        "  # Print the recommended items for each user\n",
        "  for uid, user_ratings in model.items():\n",
        "    if str(uid) == str(user_id):\n",
        "      result = [iid for (iid, _) in user_ratings][:n]\n",
        "  return result\n",
        "\n",
        "def predict_item(model, item_id, n=5):\n",
        "  result = []\n",
        "  # Print the recommended items for each user\n",
        "  top_n_iid = defaultdict(list)\n",
        "  for uid, user_ratings in model.items():\n",
        "    for (iid, rating) in user_ratings:\n",
        "      if str(iid) == str(item_id):\n",
        "        top_n_iid[iid].append((uid, rating))        \n",
        "\n",
        "  # Then sort the predictions for each user and retrieve the k highest ones.\n",
        "  for iid, user_ratings in top_n_iid.items():\n",
        "    user_ratings.sort(key=lambda x: x[1], reverse=True)\n",
        "  result = [iid for (iid, _) in user_ratings][:n]\n",
        "  return result  \n",
        "\n",
        "def predict_user_item(model, user_id, item_id):\n",
        "  result = []\n",
        "  # Print the recommended items for each user\n",
        "  for uid, user_ratings in model.items():\n",
        "    if str(uid) == str(user_id):\n",
        "      for (iid, rating) in user_ratings:\n",
        "        if str(iid) == str(item_id):\n",
        "          result.append(rating)\n",
        "  return result\n"
      ],
      "execution_count": null,
      "outputs": []
    },
    {
      "cell_type": "markdown",
      "metadata": {
        "id": "drax2xvZhYw0"
      },
      "source": [
        "## Training"
      ]
    },
    {
      "cell_type": "code",
      "metadata": {
        "colab": {
          "base_uri": "https://localhost:8080/"
        },
        "id": "vxTHtIBRfBzp",
        "outputId": "1db32200-e820-411a-d955-f36e1a09f390"
      },
      "source": [
        "# part 1 - training\n",
        "csv_filename = 'casasbahia.csv'\n",
        "print('training model...')\n",
        "model = train_model(csv_filename)\n",
        "print('saving model...')\n",
        "model_filename = save_model(model)\n",
        "print(f'model saved to {model_filename}')"
      ],
      "execution_count": null,
      "outputs": [
        {
          "output_type": "stream",
          "text": [
            "training model...\n",
            "Dataset ml-100k could not be found. Do you want to download it? [Y/n] y\n",
            "Trying to download dataset from http://files.grouplens.org/datasets/movielens/ml-100k.zip...\n",
            "Done! Dataset ml-100k has been saved to /root/.surprise_data/ml-100k\n",
            "model trained in 26.1 seconds\n",
            "saving model...\n",
            "tamanho do modelo: 36984 bytes\n",
            "tamanho do arquivo: 62238699 bytes\n",
            "model saved to 5e7c80d0-9c4f-400c-a789-b3446b661c01.model\n"
          ],
          "name": "stdout"
        }
      ]
    },
    {
      "cell_type": "markdown",
      "metadata": {
        "id": "OM-ypIoehdHE"
      },
      "source": [
        "## Prediction"
      ]
    },
    {
      "cell_type": "code",
      "metadata": {
        "colab": {
          "base_uri": "https://localhost:8080/"
        },
        "id": "_9O6ltpdhgVZ",
        "outputId": "d0a63cb5-8299-47b5-9c54-e400686a5eab"
      },
      "source": [
        "# part 2 - predicting\n",
        "print('loading saved model from disk...')\n",
        "model = load_model(model_filename)\n",
        "user_id = 196\n",
        "print(f'predicting user {user_id}..')\n",
        "result_user = predict_user(model, user_id, n=5)\n",
        "print(f'prediction result={result_user}')\n",
        "if len(result_user) > 0:\n",
        "  item_id = result_user[0]\n",
        "  print(f'predicting item {item_id}..')\n",
        "  result_item = predict_item(model, item_id, n=5)\n",
        "  print(f'prediction result={result_item}')\n",
        "  if len(result_item) > 0:\n",
        "    print(f'predicting item {item_id} for user {user_id}..')\n",
        "    result_user_item = predict_user_item(model, user_id, item_id)\n",
        "    print(f'prediction result={result_user_item}')  "
      ],
      "execution_count": null,
      "outputs": [
        {
          "output_type": "stream",
          "text": [
            "loading saved model from disk...\n",
            "Carregando o modelo\n",
            "Modelo carregado\n",
            "predicting user 196..\n",
            "prediction result=['98', '64', '408', '318', '483']\n",
            "predicting item 98..\n",
            "prediction result=['157', '173', '4', '252', '261']\n",
            "predicting item 98 for user 196..\n",
            "prediction result=[4.6788753121780635]\n"
          ],
          "name": "stdout"
        }
      ]
    }
  ]
}
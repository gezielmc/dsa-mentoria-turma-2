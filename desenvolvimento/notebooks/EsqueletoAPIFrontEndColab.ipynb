{
  "nbformat": 4,
  "nbformat_minor": 0,
  "metadata": {
    "colab": {
      "name": "EsqueletoAPIFrontEndColab.ipynb",
      "provenance": [],
      "collapsed_sections": []
    },
    "kernelspec": {
      "name": "python3",
      "display_name": "Python 3"
    },
    "language_info": {
      "name": "python"
    }
  },
  "cells": [
    {
      "cell_type": "markdown",
      "metadata": {
        "id": "w5qnz0xZW-Hz"
      },
      "source": [
        "# Esqueleto API/Colab/Frontend"
      ]
    },
    {
      "cell_type": "code",
      "metadata": {
        "id": "qQdxmZcCW79a"
      },
      "source": [
        "## FRONTEND ##\n",
        "\n",
        "status_modelo_cliente_1 = None\n",
        "\n",
        "def frontend_solicita_treinamento():\n",
        "  # arquivo que o cliente salvou no disco do frontend\n",
        "  csv_filename = 'empresa1_csv.csv'\n",
        "  # cria no banco o modelo para o cliente com o status \"Recém Criado\"\n",
        "  global status_modelo_cliente_1\n",
        "  status_modelo_cliente_1 = 'Recém Criado'\n",
        "  # colab informa como sera o nome do modelo a ser criado no treinamento\n",
        "  model_name = colab_servercall_treinar_modelo(csv_filename)\n",
        "  return model_name"
      ],
      "execution_count": null,
      "outputs": []
    },
    {
      "cell_type": "code",
      "metadata": {
        "id": "voE-IUE4Y5it"
      },
      "source": [
        "## API ##\n",
        "\n",
        "def api_download_csv(csv_filename):\n",
        "  csv_content = 'conteudo do arquivo csv do cliente 1'\n",
        "  return csv_content\n",
        "\n",
        "def api_treinamento_iniciado(model_name):\n",
        "  # salva no banco que este modelo esta com o treinamento iniciado\n",
        "  # busca no banco o modelo, atualiza para \"Treinamento Iniciado\"\n",
        "  print(f'salvando modelo {model_name} como iniciado no banco de dados')\n",
        "  global status_modelo_cliente_1\n",
        "  status_modelo_cliente_1 = \"Treinamento Iniciado\"\n",
        "\n",
        "def api_treinamento_finalizado(model_name):\n",
        "  # salva no banco que este modelo esta treinado\n",
        "  # busca no banco o modelo, atualiza para \"Treinado\"\n",
        "  print(f'salvando modelo {model_name} como treinado no banco de dados')\n",
        "  global status_modelo_cliente_1\n",
        "  status_modelo_cliente_1 = \"Treinado\"\n",
        "\n",
        "def api_predict_item(model_name, user_id, n=5):\n",
        "  # chama o colab via servercall para realizar a predicao\n",
        "  items = colab_predict_item(model_name, user_id, n)\n",
        "  return items"
      ],
      "execution_count": null,
      "outputs": []
    },
    {
      "cell_type": "code",
      "metadata": {
        "id": "kSyBoEMfgHB5"
      },
      "source": [
        "## COLAB ##\n",
        "\n",
        "from threading import Thread\n",
        "import time\n",
        "from uuid import uuid4\n",
        "\n",
        "def colab_thread_treinar(csv_filename, model_name):\n",
        "    print(f'[THREAD] Baixando o arquivo {csv_filename} da API')\n",
        "    # baixando arquivo da api e salvando em disco no colab\n",
        "    csv_content = api_download_csv(csv_filename)\n",
        "    !echo csv_content > csv_filename\n",
        "    time.sleep(5)\n",
        "    print(f'[THREAD] Iniciando o treinamento {csv_filename}')\n",
        "    # avisa a api que foi iniciado o treinamento\n",
        "    api_treinamento_iniciado(model_name)    \n",
        "    time.sleep(5)\n",
        "    print(f'[THREAD] treinamento finalizado {csv_filename}')\n",
        "    # avisa a api que foi o treinamento foi finalizado\n",
        "    time.sleep(2)\n",
        "    print('[THREAD] salvando modelo em disco')\n",
        "    # cria o arquivo no disco (exemplo)\n",
        "    model_filename = f'{model_name}.model'\n",
        "    !echo \"modelo\" > model_filename\n",
        "    # avisa a api que o modelo foi treinado\n",
        "    api_treinamento_finalizado(model_name)    \n",
        "\n",
        "def colab_servercall_treinar_modelo(csv_filename):\n",
        "  # gera o nome do modelo (apenas 8 caracteres para ficar melhor)\n",
        "  model_name = str(uuid4())[:8]\n",
        "  # cria a thread para inciar treinamento\n",
        "  t = Thread(target=colab_thread_treinar, args=(csv_filename, model_name, ))\n",
        "  t.start()\n",
        "  # retorna o nome modelo\n",
        "  return model_name\n",
        "\n",
        "def colab_predict_item(model_name, user_id, n=5):\n",
        "  ## carrega modelo\n",
        "  model_filename = f'{model_name}.model'\n",
        "  print(f'modelo {model_name} carregado do arquivo {model_filename}')\n",
        "  # model = carregar()\n",
        "  # items = predict(model, user_id, n=5)\n",
        "  items = [1,2,3,4,5]\n",
        "  return items"
      ],
      "execution_count": null,
      "outputs": []
    },
    {
      "cell_type": "code",
      "metadata": {
        "id": "NAojSaIExM9H"
      },
      "source": [
        "from uuid import uuid4\n",
        "\n",
        "def get_uuid():\n",
        "  return str(uuid4())[:8]\n"
      ],
      "execution_count": null,
      "outputs": []
    },
    {
      "cell_type": "code",
      "metadata": {
        "colab": {
          "base_uri": "https://localhost:8080/"
        },
        "id": "18Vx7q6ngN3g",
        "outputId": "c41381cd-f235-445f-ac3f-d824205b0417"
      },
      "source": [
        "## TESTES ##\n",
        "\n",
        "import time\n",
        "\n",
        "# 1 - Usuario Adiciona o Arquivo CSV para Treinamento\n",
        "print('o usuario enviou o arquivo para o frontend')\n",
        "print('o frontend salva arquivo em disco e solica treinamento')\n",
        "model_name = frontend_solicita_treinamento()\n",
        "print(f'o colab informou o nome do modelo {model_name}')\n",
        "print(f'o modelo tem no banco de dados a situacao {status_modelo_cliente_1}')\n",
        "\n",
        "while status_modelo_cliente_1 != \"Treinado\":\n",
        "  print('aguardando modelo ser treinado..')\n",
        "  print(f'a situação do modelo é [{status_modelo_cliente_1}]')\n",
        "  time.sleep(1)\n",
        "\n",
        "print('modelo treinado!')\n",
        "\n",
        "# 2 - Usuario usa a API para fazer recomendacao\n",
        "\n",
        "# usuario de id=10\n",
        "user_id = 10\n",
        "# deseja 5 itens como resposta\n",
        "n=5\n",
        "print(f'solicitando a predicao do modelo {model_name}, para o usuario {user_id} com {n} itens de retorno')\n",
        "items = api_predict_item(model_name, user_id, n)\n",
        "print(f'os itens de retorno foram {items}')"
      ],
      "execution_count": null,
      "outputs": [
        {
          "output_type": "stream",
          "text": [
            "o usuario enviou o arquivo para o frontend\n",
            "o frontend salva arquivo em disco e solica treinamento\n",
            "[THREAD] Baixando o arquivo empresa1_csv.csv da APIo colab informou o nome do modelo 6cb3813a\n",
            "\n",
            "o modelo tem no banco de dados a situacao Recém Criado\n",
            "aguardando modelo ser treinado..\n",
            "a situação do modelo é [Recém Criado]\n",
            "aguardando modelo ser treinado..\n",
            "a situação do modelo é [Recém Criado]\n",
            "aguardando modelo ser treinado..\n",
            "a situação do modelo é [Recém Criado]\n",
            "aguardando modelo ser treinado..\n",
            "a situação do modelo é [Recém Criado]\n",
            "aguardando modelo ser treinado..\n",
            "a situação do modelo é [Recém Criado]\n",
            "aguardando modelo ser treinado..\n",
            "a situação do modelo é [Recém Criado]\n",
            "[THREAD] Iniciando o treinamento empresa1_csv.csv\n",
            "salvando modelo 6cb3813a como iniciado no banco de dados\n",
            "aguardando modelo ser treinado..\n",
            "a situação do modelo é [Treinamento Iniciado]\n",
            "aguardando modelo ser treinado..\n",
            "a situação do modelo é [Treinamento Iniciado]\n",
            "aguardando modelo ser treinado..\n",
            "a situação do modelo é [Treinamento Iniciado]\n",
            "aguardando modelo ser treinado..\n",
            "a situação do modelo é [Treinamento Iniciado]\n",
            "aguardando modelo ser treinado..\n",
            "a situação do modelo é [Treinamento Iniciado]\n",
            "[THREAD] treinamento finalizado empresa1_csv.csv\n",
            "aguardando modelo ser treinado..\n",
            "a situação do modelo é [Treinamento Iniciado]\n",
            "aguardando modelo ser treinado..\n",
            "a situação do modelo é [Treinamento Iniciado]\n",
            "[THREAD] salvando modelo em disco\n",
            "salvando modelo 6cb3813a como treinado no banco de dados\n",
            "modelo treinado!\n",
            "solicitando a predicao do modelo 6cb3813a, para o usuario 10 com 5 itens de retorno\n",
            "modelo 6cb3813a carregado do arquivo {model_name}.model\n",
            "os itens de retorno foram [1, 2, 3, 4, 5]\n"
          ],
          "name": "stdout"
        }
      ]
    }
  ]
}
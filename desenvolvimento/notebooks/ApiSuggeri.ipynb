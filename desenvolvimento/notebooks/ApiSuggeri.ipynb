{
  "nbformat": 4,
  "nbformat_minor": 0,
  "metadata": {
    "colab": {
      "name": "ApiSuggeri.ipynb",
      "provenance": [],
      "collapsed_sections": [
        "PVUAAi8481x7",
        "q4PbImSASsIi"
      ]
    },
    "kernelspec": {
      "display_name": "Python 3",
      "name": "python3"
    },
    "language_info": {
      "name": "python"
    }
  },
  "cells": [
    {
      "cell_type": "markdown",
      "metadata": {
        "id": "aKEF2fXa88Tu"
      },
      "source": [
        "#Installs\n"
      ]
    },
    {
      "cell_type": "code",
      "metadata": {
        "id": "BAVs2xd9xN7R"
      },
      "source": [
        ""
      ],
      "execution_count": null,
      "outputs": []
    },
    {
      "cell_type": "markdown",
      "metadata": {
        "id": "HSHxiLj0xSJu"
      },
      "source": [
        "usar um arquivo requeriments.txt -- coloca os modulos e versoes -- pip install -r requiriments.txt\n",
        "\n"
      ]
    },
    {
      "cell_type": "code",
      "metadata": {
        "colab": {
          "base_uri": "https://localhost:8080/",
          "height": 391
        },
        "id": "SvA9yZaN8clo",
        "outputId": "d51c7a48-1e01-4d82-8d7a-0e5f93ee6954"
      },
      "source": [
        "!pip install anvil-uplink"
      ],
      "execution_count": 1,
      "outputs": [
        {
          "output_type": "stream",
          "name": "stdout",
          "text": [
            "Collecting anvil-uplink\n",
            "  Downloading anvil_uplink-0.3.40-py2.py3-none-any.whl (62 kB)\n",
            "\u001b[?25l\r\u001b[K     |█████▏                          | 10 kB 24.1 MB/s eta 0:00:01\r\u001b[K     |██████████▍                     | 20 kB 30.3 MB/s eta 0:00:01\r\u001b[K     |███████████████▋                | 30 kB 11.4 MB/s eta 0:00:01\r\u001b[K     |████████████████████▉           | 40 kB 9.1 MB/s eta 0:00:01\r\u001b[K     |██████████████████████████      | 51 kB 5.1 MB/s eta 0:00:01\r\u001b[K     |███████████████████████████████▎| 61 kB 5.7 MB/s eta 0:00:01\r\u001b[K     |████████████████████████████████| 62 kB 1.1 MB/s \n",
            "\u001b[?25hRequirement already satisfied: six in /usr/local/lib/python3.7/dist-packages (from anvil-uplink) (1.15.0)\n",
            "Collecting ws4py\n",
            "  Downloading ws4py-0.5.1.tar.gz (51 kB)\n",
            "\u001b[?25l\r\u001b[K     |██████▍                         | 10 kB 22.1 MB/s eta 0:00:01\r\u001b[K     |████████████▊                   | 20 kB 31.4 MB/s eta 0:00:01\r\u001b[K     |███████████████████▏            | 30 kB 40.2 MB/s eta 0:00:01\r\u001b[K     |█████████████████████████▌      | 40 kB 47.0 MB/s eta 0:00:01\r\u001b[K     |███████████████████████████████▉| 51 kB 52.8 MB/s eta 0:00:01\r\u001b[K     |████████████████████████████████| 51 kB 179 kB/s \n",
            "\u001b[?25hRequirement already satisfied: future in /usr/local/lib/python3.7/dist-packages (from anvil-uplink) (0.16.0)\n",
            "Collecting argparse\n",
            "  Downloading argparse-1.4.0-py2.py3-none-any.whl (23 kB)\n",
            "Building wheels for collected packages: ws4py\n",
            "  Building wheel for ws4py (setup.py) ... \u001b[?25l\u001b[?25hdone\n",
            "  Created wheel for ws4py: filename=ws4py-0.5.1-py3-none-any.whl size=45230 sha256=ee85f8cebf65c0c4077fd50a14151ec5e187bfc45a5e6daaea4114af240e6d7a\n",
            "  Stored in directory: /root/.cache/pip/wheels/29/ea/7d/3410aa0aa0e4402ead9a7a97ab2214804887e0f5c2b76f0c96\n",
            "Successfully built ws4py\n",
            "Installing collected packages: ws4py, argparse, anvil-uplink\n",
            "Successfully installed anvil-uplink-0.3.40 argparse-1.4.0 ws4py-0.5.1\n"
          ]
        },
        {
          "output_type": "display_data",
          "data": {
            "application/vnd.colab-display-data+json": {
              "pip_warning": {
                "packages": [
                  "argparse",
                  "google"
                ]
              }
            }
          },
          "metadata": {}
        }
      ]
    },
    {
      "cell_type": "code",
      "metadata": {
        "colab": {
          "base_uri": "https://localhost:8080/"
        },
        "id": "O6GWJ8cDn5kc",
        "outputId": "d3d2b0a3-94a4-4f8c-a596-986814327719"
      },
      "source": [
        "!pip install surprise"
      ],
      "execution_count": 2,
      "outputs": [
        {
          "output_type": "stream",
          "name": "stdout",
          "text": [
            "Collecting surprise\n",
            "  Downloading surprise-0.1-py2.py3-none-any.whl (1.8 kB)\n",
            "Collecting scikit-surprise\n",
            "  Downloading scikit-surprise-1.1.1.tar.gz (11.8 MB)\n",
            "\u001b[K     |████████████████████████████████| 11.8 MB 4.7 MB/s \n",
            "\u001b[?25hRequirement already satisfied: joblib>=0.11 in /usr/local/lib/python3.7/dist-packages (from scikit-surprise->surprise) (1.0.1)\n",
            "Requirement already satisfied: numpy>=1.11.2 in /usr/local/lib/python3.7/dist-packages (from scikit-surprise->surprise) (1.19.5)\n",
            "Requirement already satisfied: scipy>=1.0.0 in /usr/local/lib/python3.7/dist-packages (from scikit-surprise->surprise) (1.4.1)\n",
            "Requirement already satisfied: six>=1.10.0 in /usr/local/lib/python3.7/dist-packages (from scikit-surprise->surprise) (1.15.0)\n",
            "Building wheels for collected packages: scikit-surprise\n",
            "  Building wheel for scikit-surprise (setup.py) ... \u001b[?25l\u001b[?25hdone\n",
            "  Created wheel for scikit-surprise: filename=scikit_surprise-1.1.1-cp37-cp37m-linux_x86_64.whl size=1619441 sha256=2f850ce65769fcc6cefbd80906db2a9f14a1842eeacceee62ec175816a82dce4\n",
            "  Stored in directory: /root/.cache/pip/wheels/76/44/74/b498c42be47b2406bd27994e16c5188e337c657025ab400c1c\n",
            "Successfully built scikit-surprise\n",
            "Installing collected packages: scikit-surprise, surprise\n",
            "Successfully installed scikit-surprise-1.1.1 surprise-0.1\n"
          ]
        }
      ]
    },
    {
      "cell_type": "code",
      "metadata": {
        "colab": {
          "base_uri": "https://localhost:8080/"
        },
        "id": "JdBxeX2S-bQH",
        "outputId": "a46062cf-9366-4112-868e-9aca05153fb3"
      },
      "source": [
        "!pip install requests"
      ],
      "execution_count": 3,
      "outputs": [
        {
          "output_type": "stream",
          "name": "stdout",
          "text": [
            "Requirement already satisfied: requests in /usr/local/lib/python3.7/dist-packages (2.23.0)\n",
            "Requirement already satisfied: certifi>=2017.4.17 in /usr/local/lib/python3.7/dist-packages (from requests) (2021.5.30)\n",
            "Requirement already satisfied: idna<3,>=2.5 in /usr/local/lib/python3.7/dist-packages (from requests) (2.10)\n",
            "Requirement already satisfied: chardet<4,>=3.0.2 in /usr/local/lib/python3.7/dist-packages (from requests) (3.0.4)\n",
            "Requirement already satisfied: urllib3!=1.25.0,!=1.25.1,<1.26,>=1.21.1 in /usr/local/lib/python3.7/dist-packages (from requests) (1.24.3)\n"
          ]
        }
      ]
    },
    {
      "cell_type": "markdown",
      "metadata": {
        "id": "PVUAAi8481x7"
      },
      "source": [
        "#Imports"
      ]
    },
    {
      "cell_type": "code",
      "metadata": {
        "id": "t71ioQDcUxNY"
      },
      "source": [
        "# Anvil\n",
        "import anvil.media\n",
        "import anvil.tables as tables\n",
        "import anvil.tables.query as q\n",
        "from anvil.tables import app_tables\n",
        "import anvil.server\n",
        "\n",
        "# thread para a API\n",
        "from threading import Thread\n",
        "# para acionar a API no servidor do Anvil\n",
        "import requests\n",
        "\n",
        "\n",
        "# para gerar o id dos modelos\n",
        "from uuid import uuid4\n",
        "\n",
        "# surprise e toda a estrutura para IA\n",
        "import sys\n",
        "import os\n",
        "import pickle\n",
        "import time\n",
        "from collections import defaultdict\n",
        "from surprise.prediction_algorithms import knns\n",
        "from surprise import SVD\n",
        "from surprise import Dataset,  Trainset, Reader\n",
        "import pandas as pd\n"
      ],
      "execution_count": 4,
      "outputs": []
    },
    {
      "cell_type": "markdown",
      "metadata": {
        "id": "w5qnz0xZW-Hz"
      },
      "source": [
        "# Esqueleto API/Colab/Frontend"
      ]
    },
    {
      "cell_type": "code",
      "metadata": {
        "colab": {
          "base_uri": "https://localhost:8080/"
        },
        "id": "2t4T_YNT32z_",
        "outputId": "7822082a-c47f-4f57-f0d1-feeec452daf7"
      },
      "source": [
        "\n",
        "# para conectar com a minha versao original do suggeri\n",
        "#anvil.server.connect(\"BFSI2NTMXOF7JIPPVF5FMCBY-55DIUIXG7VVL3GVJ\")\n",
        "\n",
        "## para conectar com a versão do front-end do Geziel\n",
        "##anvil.server.connect(\"KISG3R44OEKOOUBHCGY7WRUM-CD7JWV2AUK4WZKRN\")\n",
        "\n",
        "# para conectar a versao final da Erica \n",
        "#anvil.server.connect(\"GOV2WLOJBBXX5MY4ZP5PTBXD-QEV7AO4O3G54JYOU\")\n",
        "# para conectar a versao clone 5\n",
        "anvil.server.connect(\"GZAXUQF7PPVME4AW7FIKSIP6-N3KNIIBKXBE7MBCM\")"
      ],
      "execution_count": 5,
      "outputs": [
        {
          "output_type": "stream",
          "name": "stdout",
          "text": [
            "Connecting to wss://anvil.works/uplink\n",
            "Anvil websocket open\n",
            "Connected to \"Default environment (dev)\" as SERVER\n"
          ]
        }
      ]
    },
    {
      "cell_type": "markdown",
      "metadata": {
        "id": "q4PbImSASsIi"
      },
      "source": [
        "#Front-end e API"
      ]
    },
    {
      "cell_type": "code",
      "metadata": {
        "id": "qQdxmZcCW79a"
      },
      "source": [
        "## FRONTEND ##\n",
        "\n",
        "status_modelo_cliente_1 = None\n",
        "\n",
        "def frontend_solicita_treinamento():\n",
        "  # arquivo que o cliente salvou no disco do frontend\n",
        "  csv_filename = 'empresa1_csv.csv'\n",
        "  # cria no banco o modelo para o cliente com o status \"Recém Criado\"\n",
        "  global status_modelo_cliente_1\n",
        "  status_modelo_cliente_1 = 'Recém Criado'\n",
        "  # colab informa como sera o nome do modelo a ser criado no treinamento\n",
        "  model_name = colab_servercall_treinar_modelo(csv_filename)\n",
        "  return model_name"
      ],
      "execution_count": 6,
      "outputs": []
    },
    {
      "cell_type": "code",
      "metadata": {
        "id": "voE-IUE4Y5it"
      },
      "source": [
        "## API ##\n",
        "\n",
        "def api_download_csv(csv_filename):\n",
        "  csv_content = 'conteudo do arquivo csv do cliente 1'\n",
        "  return csv_content\n",
        "\n",
        "def api_treinamento_iniciado(model_name):\n",
        "  # salva no banco que este modelo esta com o treinamento iniciado\n",
        "  # busca no banco o modelo, atualiza para \"Treinamento Iniciado\"\n",
        "  print(f'salvando modelo {model_name} como iniciado no banco de dados')\n",
        "  global status_modelo_cliente_1\n",
        "  status_modelo_cliente_1 = \"Treinamento Iniciado\"\n",
        "\n",
        "\n",
        "def api_treinamento_finalizado(model_name):\n",
        "  # salva no banco que este modelo esta treinado\n",
        "  # busca no banco o modelo, atualiza para \"Treinado\"\n",
        "  print(f'salvando modelo {model_name} como treinado no banco de dados')\n",
        "  global status_modelo_cliente_1\n",
        "  status_modelo_cliente_1 = \"Treinado\"\n",
        "\n",
        "\n",
        "def api_predict_item(model_name, user_id, n=5):\n",
        "  # chama o colab via servercall para realizar a predicao\n",
        "  items = colab_predict_item(model_name, user_id, n)\n",
        "  return items"
      ],
      "execution_count": 7,
      "outputs": []
    },
    {
      "cell_type": "markdown",
      "metadata": {
        "id": "yCAd_luYS8BY"
      },
      "source": [
        "#API - Chamadas do Anvil para o COLAB"
      ]
    },
    {
      "cell_type": "code",
      "metadata": {
        "id": "kSyBoEMfgHB5"
      },
      "source": [
        "## COLAB ##\n",
        "\n",
        "def colab_servercall_treinar_modelo(csv_filename):\n",
        "  # gera o nome do modelo (apenas 8 caracteres para ficar melhor)\n",
        "  #model_name = str(uuid4())[:8]\n",
        "  model_name = csv_filename[:8]\n",
        "  # cria a thread para inciar treinamento\n",
        "  t = Thread(target=colab_thread_treinar, args=(csv_filename, model_name, ))\n",
        "  t.start()\n",
        "  # retorna o nome modelo\n",
        "  return model_name\n",
        "\n",
        "def colab_predict_item(model_name, user_id, n=5):\n",
        "  ## carrega modelo\n",
        "  model_filename = f'{model_name}.model'\n",
        "  print(f'modelo {model_name} carregado do arquivo {model_filename}')\n",
        "  model = load_model(model_filename)  \n",
        "  # model = carregar()\n",
        "  # items = predict(model, user_id, n=5)\n",
        "  itens = []\n",
        "  itens = predict_user(model, user_id, n)\n",
        "  return itens\n",
        "\n",
        "def colab_predict_user_item(model_name, user_id, item_id):\n",
        "  ## carrega modelo\n",
        "  model_filename = f'{model_name}.model'\n",
        "  print(f'modelo {model_name} carregado do arquivo {model_filename}')\n",
        "  model = load_model(model_filename)\n",
        "  # model = carregar()\n",
        "  rating = predict_user_item(model, user_id=user_id, item_id=item_id)\n",
        "  return rating \n",
        "\n",
        "def colab_predict_users(model_name, item_id, n=5):\n",
        "  ## carrega modelo\n",
        "  model_filename = f'{model_name}.model'\n",
        "  print(f'modelo {model_name} carregado do arquivo {model_filename}')\n",
        "  model = load_model(model_filename)  \n",
        "    # items = predict(model, user_id, n=5)\n",
        "  itens = []\n",
        "  itens = predict_item(model, item_id, n)\n",
        "  return itens   "
      ],
      "execution_count": 8,
      "outputs": []
    },
    {
      "cell_type": "code",
      "metadata": {
        "id": "OpCAuyIQngNB"
      },
      "source": [
        "\n",
        "@anvil.server.callable\n",
        "def thread_treinar(csv_filename, model_name):\n",
        "  return colab_thread_treinar(csv_filename, model_name)\n",
        "\n",
        "@anvil.server.callable\n",
        "def treinar_modelo(csv_filename):\n",
        "  return  colab_servercall_treinar_modelo(csv_filename)\n",
        "\n",
        "@anvil.server.callable\n",
        "def predict_item(model_name, user_id, n=5):\n",
        "  return colab_predict_item(model_name, user_id, n)\n",
        "\n",
        "@anvil.server.callable\n",
        "def predict_users(model_name, item_id, n=5):  \n",
        "  return colab_predict_users(model_name, item_id, n=5)  \n",
        "\n",
        "@anvil.server.callable\n",
        "def predict_user_item(model_name, user_id, item_id):\n",
        "  return colab_predict_user_item(model_name, user_id, item_id)\n",
        "\n",
        "@anvil.server.callable\n",
        "def get_uuid():\n",
        "    return str(uuid4())[:8]\n",
        "\n",
        "@anvil.server.callable\n",
        "def colab_online():\n",
        "  return True\n",
        "\n"
      ],
      "execution_count": 9,
      "outputs": []
    },
    {
      "cell_type": "markdown",
      "metadata": {
        "id": "NlAKQUDPjOjD"
      },
      "source": [
        "# VERSÃO FINAL COM SURPRISE (Toda a parte de IA está aqui)"
      ]
    },
    {
      "cell_type": "code",
      "metadata": {
        "id": "lfovpeZBjavi"
      },
      "source": [
        "\n",
        "def get_top_n(predictions, n=10):\n",
        "    \"\"\"Return the top-N recommendation for each user from a set of predictions.\n",
        "\n",
        "    Args:\n",
        "        predictions(list of Prediction objects): The list of predictions, as\n",
        "            returned by the test method of an algorithm.\n",
        "        n(int): The number of recommendation to output for each user. Default\n",
        "            is 10.\n",
        "\n",
        "    Returns:\n",
        "    A dict where keys are user (raw) ids and values are lists of tuples:\n",
        "        [(raw item id, rating estimation), ...] of size n.\n",
        "    \"\"\"\n",
        "\n",
        "    # First map the predictions to each user.\n",
        "    top_n = defaultdict(list)\n",
        "    for uid, iid, true_r, est, _ in predictions:\n",
        "        top_n[uid].append((iid, est))\n",
        "\n",
        "    # Then sort the predictions for each user and retrieve the k highest ones.\n",
        "    for uid, user_ratings in top_n.items():\n",
        "        user_ratings.sort(key=lambda x: x[1], reverse=True)\n",
        "        if n:\n",
        "          top_n[uid] = user_ratings[:n]\n",
        "        else:\n",
        "          top_n[uid] = user_ratings\n",
        "\n",
        "    return top_n\n",
        "\n",
        "def train_model(csv_filename, n=None):\n",
        "  start = time.time()\n",
        "  # TODO: alterar para ler .csv\n",
        "  print('loading from dataset')\n",
        "  df = pd.read_csv(csv_filename)\n",
        "  data = Dataset.load_from_df(df[['UserId', 'ProductId', 'Rating']], Reader(rating_scale=(1,5)))\n",
        "  #data = Dataset.load_builtin('ml-100k')\n",
        "  trainset = data.build_full_trainset()\n",
        "  algo = SVD(random_state=1)\n",
        "  algo.fit(trainset)\n",
        "\n",
        "  # Than predict ratings for all pairs (u, i) that are NOT in the training set.\n",
        "  testset = trainset.build_anti_testset()\n",
        "  predictions = algo.test(testset)\n",
        "\n",
        "  model = get_top_n(predictions, n=n)\n",
        "  elapsed_seconds = time.time() - start\n",
        "  print(f'model trained in {elapsed_seconds:.1f} seconds')\n",
        "  return model\n",
        "\n",
        "def save_model(model, filename=''):\n",
        "  tamanho_modelo = sys.getsizeof(model)\n",
        "  print(f'tamanho do modelo: {tamanho_modelo} bytes')\n",
        "  if filename == '':\n",
        "    file_name2 = str(uuid.uuid4())[:8] + '.model'\n",
        "  else:\n",
        "    file_name2 = filename + '.model'\n",
        "  pickle.dump(model, open(file_name2, 'wb'))\n",
        "  tamanho_arquivo = os.stat(file_name2).st_size\n",
        "  print(f'tamanho do arquivo: {tamanho_arquivo} bytes')\n",
        "  return file_name2\n",
        "\n",
        "def load_model(file_name):\n",
        "  print('Carregando o modelo')\n",
        "  loaded_model = pickle.load(open(file_name, 'rb'))\n",
        "  print (\"Modelo carregado\")\n",
        "  return loaded_model\n",
        "\n",
        "def predict_user(model, user_id, n=5):\n",
        "  print('Predict Itens for a User')\n",
        "  result = []\n",
        "  # Print the recommended items for each user\n",
        "  for uid, user_ratings in model.items():\n",
        "    if str(uid) == str(user_id):\n",
        "      result = [iid for (iid, _) in user_ratings][:n]\n",
        "  print(result)\n",
        "  return result\n",
        "\n",
        "def predict_item(model, item_id, n=5):\n",
        "  print('Predict Users for a Item')\n",
        "  result = []\n",
        "  # Print the recommended items for each user\n",
        "  top_n_iid = defaultdict(list)\n",
        "  for uid, user_ratings in model.items():\n",
        "    for (iid, rating) in user_ratings:\n",
        "      if str(iid) == str(item_id):\n",
        "        top_n_iid[iid].append((uid, rating))        \n",
        "\n",
        "  # Then sort the predictions for each user and retrieve the k highest ones.\n",
        "  for iid, user_ratings in top_n_iid.items():\n",
        "    user_ratings.sort(key=lambda x: x[1], reverse=True)\n",
        "  result = [uid for (uid, _) in user_ratings][:n]\n",
        "  return result  \n",
        "\n",
        "def predict_user_item(model, user_id, item_id):\n",
        "  print('Predict Rating for a Item by User')\n",
        "  result = []\n",
        "  # Print the recommended items for each user\n",
        "  for uid, user_ratings in model.items():\n",
        "    if str(uid) == str(user_id):\n",
        "      for (iid, rating) in user_ratings:\n",
        "        if str(iid) == str(item_id):\n",
        "          result.append(rating)\n",
        "  return result\n",
        "\n",
        "\n",
        "\n"
      ],
      "execution_count": 10,
      "outputs": []
    },
    {
      "cell_type": "code",
      "metadata": {
        "id": "BwbmkNrtvX_b"
      },
      "source": [
        "# esta função é acionada pelo anvil para que o colab/python receba o arquivo\n",
        "# com os dados (csv), e inicia automaticamente o treinamento.\n",
        "\n",
        "\n",
        "@anvil.server.callable\n",
        "def get_data(file, modelo_id):\n",
        "    print(modelo_id)\n",
        "    with anvil.media.TempFile(file) as file_name:\n",
        "        nome = modelo_id + '.csv'\n",
        "        # file = open(nome,'w+')\n",
        "        df = pd.read_csv(file_name)\n",
        "        df.to_csv(nome)\n",
        "        if(df.empty):\n",
        "            return 'Não recebemos o arquivo, gentileza enviar novamente!'\n",
        "        else:\n",
        "            # training_model()\n",
        "            colab_treinar_modelo(nome)\n",
        "            print(df)\n",
        "            return 'Arquivo Em Treinamento!'"
      ],
      "execution_count": 11,
      "outputs": []
    },
    {
      "cell_type": "code",
      "metadata": {
        "id": "vsW6RNNTkUOA"
      },
      "source": [
        "@anvil.server.callable\n",
        "def send_file(file):\n",
        "    # print(modelo_id)\n",
        "    with anvil.media.TempFile(file) as file_name:\n",
        "        df = pd.read_csv(file_name)\n",
        "        if(df.empty):\n",
        "            return 'Não recebemos o arquivo, gentileza enviar novamente!'\n",
        "        else:\n",
        "            return colab_servercall_treinar_modelo(csv_filename) #retorna id modelo e treina numa thread"
      ],
      "execution_count": 12,
      "outputs": []
    },
    {
      "cell_type": "code",
      "metadata": {
        "id": "BOd2Ecoz8qGE"
      },
      "source": [
        "# exemplo\n",
        "# /notify/start/:model_id e /notify/finish/:model_id\n",
        "\n",
        "def notify_start(modelo_id):\n",
        "  # executa o request para a api de acordo com os parametros\n",
        "  site = \"https://N3KNIIBKXBE7MBCM.anvil.app/3VIQN3574H2X3G3PBCYVOQBH/_/api/api_treinamento_iniciado/\" + modelo_id\n",
        "  #response = requests.get(f'https://cd7jwv2auk4wzkrn.anvil.app/_/private_api/NAUJWAV2RPBGYXSGAHBTFQXI/api_treinamento_iniciado/{modelo_id}')\n",
        "  response = requests.get(site)\n",
        "  # obtem o json de resposta \n",
        "  data = response.json()\n",
        "  return data\n",
        "\n",
        "def notify_finish(modelo_id):\n",
        "  # executa o request para a api de acordo com os parametros\n",
        "  site = \"https://N3KNIIBKXBE7MBCM.anvil.app/3VIQN3574H2X3G3PBCYVOQBH/_/api/api_treinamento_finalizado/\" + modelo_id\n",
        "  response = requests.get(site)\n",
        "  # response = requests.get(f'https://cd7jwv2auk4wzkrn.anvil.app/_/private_api/NAUJWAV2RPBGYXSGAHBTFQXI/api_treinamento_finalizado/{modelo_id}')\n",
        "  # obtem o json de resposta\n",
        "  data = response.json()\n",
        "  return data"
      ],
      "execution_count": 13,
      "outputs": []
    },
    {
      "cell_type": "code",
      "metadata": {
        "id": "YTNLvFVQ-2C8"
      },
      "source": [
        "# esta é a função que efetivamente aciona o treinamento do modelo.\n",
        "def colab_treinar_frontend(csv_filename):\n",
        "  print('training model...')\n",
        "  model_name = csv_filename[:8]\n",
        "  \n",
        "  # aciona o servidor anvil para informar que o modelo está treinado\n",
        "  print('Aciona servidor Anvil para informar treinamento inicializado')\n",
        "  print(notify_start(model_name))\n",
        "  # site = \"https://CD7JWV2AUK4WZKRN.anvil.app/_/private_api/NAUJWAV2RPBGYXSGAHBTFQXI/api_treinamento_iniciado/\" + model_name\n",
        "  # r = requests.get(site)\n",
        "  # print(r.status_code)\n",
        "  # print(r.headers)\n",
        "  # print(r.content)\n",
        "\n",
        "  model = train_model(csv_filename)\n",
        "  print('saving model...')\n",
        "  model_filename = save_model(model, model_name)\n",
        "  print(f'model saved to {model_filename}')\n",
        "  \n",
        "  # aciona o servidor anvil para informar que o modelo está treinado\n",
        "  print('Aciona servidor Anvil para informar treinamento finalizado')\n",
        "  print(notify_finish(model_name))\n",
        "  # site = \"https://CD7JWV2AUK4WZKRN.anvil.app/_/private_api/NAUJWAV2RPBGYXSGAHBTFQXI/api_treinamento_finalizado/\" + model_name\n",
        "  # r = requests.get(site)\n",
        "  # print(r.status_code)\n",
        "  # print(r.headers)\n",
        "  # print(r.content)"
      ],
      "execution_count": 14,
      "outputs": []
    },
    {
      "cell_type": "code",
      "metadata": {
        "id": "Umkq1wyukTH0"
      },
      "source": [
        "# esta funcao inicia o treinamento de um arquivo salvo no diretorio\n",
        "\n",
        "def colab_treinar_modelo(csv_filename):\n",
        "  model_name = csv_filename[:8]\n",
        "  # cria a thread para inciar treinamento\n",
        "  t = Thread(target=colab_treinar_frontend, args=(csv_filename, ))\n",
        "  t.start()\n",
        "  # retorna o nome modelo\n",
        "  return model_name"
      ],
      "execution_count": 15,
      "outputs": []
    },
    {
      "cell_type": "markdown",
      "metadata": {
        "id": "Xkq-MXvVrHlA"
      },
      "source": [
        "# Inicia o servidor anvil para rodar até o fim dos tempos..."
      ]
    },
    {
      "cell_type": "code",
      "metadata": {
        "colab": {
          "background_save": true
        },
        "id": "N9DfkCFElJhA"
      },
      "source": [
        "################### aqui roda o serviço e faz todos os prints das APIs acionadas ####### essa é a melhor opção para rodas\n",
        "anvil.server.wait_forever()"
      ],
      "execution_count": null,
      "outputs": []
    }
  ]
}